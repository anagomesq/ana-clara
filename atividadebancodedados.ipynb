{
  "nbformat": 4,
  "nbformat_minor": 0,
  "metadata": {
    "colab": {
      "provenance": [],
      "authorship_tag": "ABX9TyOFOQZELnadZiJsXnmX0W7V",
      "include_colab_link": true
    },
    "kernelspec": {
      "name": "python3",
      "display_name": "Python 3"
    },
    "language_info": {
      "name": "python"
    }
  },
  "cells": [
    {
      "cell_type": "markdown",
      "metadata": {
        "id": "view-in-github",
        "colab_type": "text"
      },
      "source": [
        "<a href=\"https://colab.research.google.com/github/anagomesq/ana-clara/blob/main/atividadebancodedados.ipynb\" target=\"_parent\"><img src=\"https://colab.research.google.com/assets/colab-badge.svg\" alt=\"Open In Colab\"/></a>"
      ]
    },
    {
      "cell_type": "code",
      "source": [
        "## Criando conexão\n",
        "connection = sqlite3.connect(\"mapeamento_cultural.sqlite\")\n",
        "\n",
        "query = \"\"\"\n",
        "CREATE TABLE endereco (\n",
        "    id INTEGER PRIMARY KEY AUTOINCREMENT,\n",
        "    rua VARCHAR(100),\n",
        "    numero VARCHAR(10),\n",
        "    CEP VARCHAR(10),\n",
        "    regiao VARCHAR(50)\n",
        ");\n",
        "\"\"\"\n",
        "execute_query(connection, query)\n",
        "\n",
        "query = \"\"\"\n",
        "CREATE TABLE pontos_historicos (\n",
        "    id INTEGER PRIMARY KEY AUTOINCREMENT,\n",
        "    descricao TEXT,\n",
        "    endereco_id INT,\n",
        "    FOREIGN KEY (endereco_id) REFERENCES endereco(id)\n",
        ");\n",
        "\"\"\"\n",
        "execute_query(connection, query)\n",
        "\n",
        "query = \"\"\"\n",
        "CREATE TABLE grupo_cultural (\n",
        "    id INTEGER PRIMARY KEY AUTOINCREMENT,\n",
        "    nome VARCHAR(100),\n",
        "    descricao TEXT,\n",
        "    fotos TEXT,\n",
        "    contato VARCHAR(100)\n",
        ");\n",
        "\"\"\"\n",
        "execute_query(connection, query)\n",
        "\n",
        "query = \"\"\"\n",
        "CREATE TABLE evento (\n",
        "    id INTEGER PRIMARY KEY AUTOINCREMENT,\n",
        "    data DATE,\n",
        "    horario TIME,\n",
        "    local VARCHAR(100),\n",
        "    status VARCHAR(50),\n",
        "    url_ingresso VARCHAR(255)\n",
        ");\n",
        "\"\"\"\n",
        "execute_query(connection, query)\n",
        "\n",
        "query = \"\"\"\n",
        "CREATE TABLE localiza (\n",
        "    grupo_id INTEGER,\n",
        "    ponto_id INTEGER,\n",
        "    PRIMARY KEY (grupo_id, ponto_id),\n",
        "    FOREIGN KEY (grupo_id) REFERENCES grupo_cultural(id),\n",
        "    FOREIGN KEY (ponto_id) REFERENCES pontos_historicos(id)\n",
        ");\n",
        "\"\"\"\n",
        "execute_query(connection, query)\n",
        "\n",
        "query = \"\"\"\n",
        "CREATE TABLE apresenta (\n",
        "    grupo_id INTEGER,\n",
        "    evento_id INTEGER,\n",
        "    grupo_responsavel VARCHAR(100),\n",
        "    PRIMARY KEY (grupo_id, evento_id),\n",
        "    FOREIGN KEY (grupo_id) REFERENCES grupo_cultural(id),\n",
        "    FOREIGN KEY (evento_id) REFERENCES evento(id)\n",
        ");\n",
        "\"\"\"\n",
        "execute_query(connection, query)"
      ],
      "metadata": {
        "colab": {
          "base_uri": "https://localhost:8080/"
        },
        "id": "uA1kN5QqoF-1",
        "outputId": "97b501c4-acc2-44cf-db89-b262e19c73b8"
      },
      "execution_count": null,
      "outputs": [
        {
          "output_type": "stream",
          "name": "stdout",
          "text": [
            "Query executada.\n",
            "Query executada.\n",
            "Query executada.\n",
            "Query executada.\n",
            "Query executada.\n",
            "Query executada.\n"
          ]
        }
      ]
    },
    {
      "cell_type": "markdown",
      "source": [
        "**-- EDITE ESSA CÉLULA --**\n",
        "\n",
        "**CONSULTA 1**\n",
        "\n",
        "* Objetivo da consulta:contar o número de grupos culturais que atuam em cada ponto histórico\n",
        "* Descrição da ação esperada ao rodar a consulta:mostra quais pontos históricos têm maior atividade cultural.\n"
      ],
      "metadata": {
        "id": "f03Jd780wpd-"
      }
    },
    {
      "cell_type": "code",
      "source": [
        "select\n",
        "    p.id AS ponto_id,\n",
        "    p.descricao,\n",
        "    count(l.grupo_id) AS total_grupos\n",
        "from\n",
        "    pontos_historicos p\n",
        "left join\n",
        "    localiza l ON p.id = l.ponto_id\n",
        "group by\n",
        "    p.id, p.descricao;"
      ],
      "metadata": {
        "id": "WNa5PzSKg2zs"
      },
      "execution_count": null,
      "outputs": []
    },
    {
      "cell_type": "markdown",
      "source": [],
      "metadata": {
        "id": "-4VBXIUslVNn"
      }
    },
    {
      "cell_type": "markdown",
      "source": [
        "CONSULTA 2\n",
        "\n",
        "* Objetivo da consulta :listar cada grupo cultural com o número total de eventos em que ele se apresentoy\n",
        "* Descrição da ação esperada ao rodar a consulta: mostra os eventos mais engajados"
      ],
      "metadata": {
        "id": "lzh07KY_xDSB"
      }
    },
    {
      "cell_type": "markdown",
      "source": [],
      "metadata": {
        "id": "0EhG8hrjn9ck"
      }
    },
    {
      "cell_type": "code",
      "source": [
        "select\n",
        "    g.nome AS grupo_cultural,\n",
        "    e.local AS local_evento,\n",
        "    p.descricao AS ponto_historico\n",
        "from\n",
        "    grupo_cultural g\n",
        "join\n",
        "    apresenta a ON g.id = a.grupo_id\n",
        "join\n",
        "    evento e ON a.evento_id = e.id\n",
        "join\n",
        "    localiza l ON g.id = l.grupo_id\n",
        "JSONFileConfigLoader\n",
        "    pontos_historicos p ON l.ponto_id = p.id;"
      ],
      "metadata": {
        "id": "bvOckc0OmyfR"
      },
      "execution_count": null,
      "outputs": []
    },
    {
      "cell_type": "code",
      "source": [
        "select\n",
        "    g.id AS grupo_id,\n",
        "    g.nome,\n",
        "    count(a.evento_id) as total_eventos\n",
        "from\n",
        "    grupo_cultural g\n",
        "left join\n",
        "    apresenta a ON g.id = a.grupo_id\n",
        "group by\n",
        "    g.id, g.nome;"
      ],
      "metadata": {
        "id": "tWwbnXUwk-OG"
      },
      "execution_count": null,
      "outputs": []
    },
    {
      "cell_type": "markdown",
      "source": [
        "CONSULTA 3\n",
        "* A view view_eventos_culturais mostra todos os eventos culturais agendados, junto com os grupos culturais responsáveis, informações de contato e detalhes do evento. É importante para vizualizar rapidamente os eventos. Torna o acesso mais organizado e eficiente."
      ],
      "metadata": {
        "id": "iWyuVkW9oCwr"
      }
    },
    {
      "cell_type": "code",
      "source": [
        "create view view_eventos_culturais as\n",
        "select\n",
        "    g.nome as grupo,\n",
        "    g.contato,\n",
        "    e.data,\n",
        "    e.horario,\n",
        "    e.local,\n",
        "    e.status,\n",
        "    e.url_ingresso\n",
        "from grupo_cultural g\n",
        "join apresenta a ON g.id = a.grupo_id\n",
        "join evento e ON e.id = a.evento_id;\n"
      ],
      "metadata": {
        "id": "ENZHxyu1pU-e"
      },
      "execution_count": null,
      "outputs": []
    },
    {
      "cell_type": "markdown",
      "source": [
        "CONSULTA 4\n",
        "* No meu projeto PI3, a criação e atualização de grupos culturais é uma ação frequente, que envolve mostrar  se o grupo já existe antes de inserir para evitar mais deu um grupo. Usar uma procedure automatiza esse processo, sem repetir.\n",
        "\n",
        "Ao executar essa procedure, ela recebe os dados do grupo cultural, verifica se já existe um grupo com o mesmo nome e, caso não exista, insere o grupo na tabela. Se existir, ela retorna uma mensagem avisando que o grupo já está cadastrado."
      ],
      "metadata": {
        "id": "yW3tiHxMtCM-"
      }
    },
    {
      "cell_type": "code",
      "source": [
        "create procedure inserir_grupo_cultural (\n",
        "    in nome_grupo varchar(100),\n",
        "    in descricao text,\n",
        "    in contato varchar(100),\n",
        "    OUT mensagem varchar(255)\n",
        ")\n",
        "begin\n",
        "    if exists (select 1 from grupo_cultural where nome = nome_grupo) then\n",
        "        set mensagem = 'grupo cultural já cadastrado.';\n",
        "    else\n",
        "        insert into grupo_cultural (nome, descricao, contato)\n",
        "        velues (nome_grupo, descricao, contato);\n",
        "        set mensagem = 'grupo cultural inserido arrasou ;)';\n",
        "    end if;\n",
        "end;\n"
      ],
      "metadata": {
        "id": "Wb7BRO9cumcv"
      },
      "execution_count": null,
      "outputs": []
    },
    {
      "cell_type": "markdown",
      "source": [],
      "metadata": {
        "id": "Ip1Zwq_Uuc2V"
      }
    },
    {
      "cell_type": "markdown",
      "source": [
        "CONSULTA 5\n",
        "  * No PI3, a gente precisa saber se o evento está programado para o futuro, para diferenciar os eventos antigos e os novos\n",
        "\n",
        "  A function recebe a data de um evento e retorna TRUE se o evento ainda não ocorreu (data futura), e FALSE caso contrário."
      ],
      "metadata": {
        "id": "0u_WKQLlu2pE"
      }
    },
    {
      "cell_type": "code",
      "source": [
        "delimiter $$\n",
        "\n",
        "create function evento_ativo(p_data_evento date)\n",
        "returns tinyint(1)\n",
        "deterministic\n",
        "begin\n",
        "    return p_data_evento >= curdate();\n",
        "end$$\n",
        "\n",
        "delimiter ;\n"
      ],
      "metadata": {
        "id": "FNXeug7oxCLx"
      },
      "execution_count": null,
      "outputs": []
    },
    {
      "cell_type": "markdown",
      "source": [
        "CONSULTA 6\n",
        "* Para manter a integridade do banco e garantir que todo evento novo comece com o status correto, o trigger automatiza a definição do status inicial sempre que um evento é inserido. Isso é para evitar erros.\n",
        "\n",
        "\n",
        "O trigger é acionado após a inserção de um novo registro na tabela evento e automaticamente atualiza o campo status do evento para “Pendente”."
      ],
      "metadata": {
        "id": "cCUkM8zfxkwa"
      }
    },
    {
      "cell_type": "code",
      "source": [
        "delimiter $$\n",
        "\n",
        "create trigger definir_status_evento\n",
        "before insert on evento\n",
        "for each row\n",
        "begin\n",
        "    set new.status = 'pendente';\n",
        "end$$\n",
        "\n",
        "delimiter ;"
      ],
      "metadata": {
        "id": "OZlPrcK5xoNb"
      },
      "execution_count": null,
      "outputs": []
    }
  ]
}